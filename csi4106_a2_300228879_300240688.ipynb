{
  "cells": [
    {
      "cell_type": "markdown",
      "metadata": {},
      "source": [
        "**CSI 4106 Introduction to Artificial Intelligence** <br/>\n",
        "*Assignment 2: Machine Learning*\n",
        "\n",
        "# Identification\n",
        "\n",
        "Name: Matsuru Hoshi<br/>\n",
        "Student Number: 300228879\n",
        "\n",
        "Name: Yu-Chen Lee<br/>\n",
        "Student Number: 300240688\n",
        "\n"
      ]
    },
    {
      "cell_type": "markdown",
      "metadata": {},
      "source": [
        "### TO DO:\n",
        "✅ Data Exploration (matsuru)\\\n",
        "✅ Data Pre-Processing 5 (matsuru)\\\n",
        "✅ Data Pre-Processing 6 (matsuru)\\\n",
        "🟥 Model Development & Evaluation 7 (renny)\\\n",
        "🟥 Model Development & Evaluation 8 (renny)\\\n",
        "🟥 Hyperparameter Optimization (both)\\\n",
        "🟥 Analysis of Results (both)\\\n",
        "🟥 Documentation & Resources (both)"
      ]
    },
    {
      "cell_type": "markdown",
      "metadata": {},
      "source": [
        "## Importing Important Libaries"
      ]
    },
    {
      "cell_type": "code",
      "execution_count": 3,
      "metadata": {},
      "outputs": [],
      "source": [
        "import pandas as pd\n",
        "import matplotlib.pylab as plt\n",
        "import seaborn as sns\n",
        "from sklearn.model_selection import train_test_split\n",
        "from sklearn.pipeline import Pipeline\n",
        "from sklearn.compose import ColumnTransformer\n",
        "from sklearn.preprocessing import OneHotEncoder, OrdinalEncoder, RobustScaler\n",
        "from sklearn.tree import DecisionTreeClassifier\n",
        "from sklearn.neighbors import KNeighborsClassifier\n",
        "from sklearn.linear_model import LogisticRegression\n",
        "from sklearn.metrics import classification_report\n"
      ]
    },
    {
      "cell_type": "markdown",
      "metadata": {},
      "source": [
        "# 1. Exploratory Analysis\n",
        "\n",
        "## Data Exploration\n",
        "\n",
        "In this assignment, we will utilize the Diabetes Prediction Dataset, accessible via [Diabetes Prediction Dataset](https://www.kaggle.com/datasets/iammustafatz/diabetes-prediction-dataset/data). To mitigate the complexity associated with Kaggle's login requirement, the dataset has been made available on a public GitHub repository:\n",
        "\n",
        "- [github.com/turcotte/csi4106-f24/tree/main/assignments-data/a2](https://github.com/turcotte/csi4106-f24/tree/main/assignments-data/a2)\n",
        "\n",
        "You can access and read the dataset directly from this GitHub repository in your Jupyter notebook."
      ]
    },
    {
      "cell_type": "code",
      "execution_count": 4,
      "metadata": {},
      "outputs": [],
      "source": [
        "url = 'https://raw.githubusercontent.com/turcotte/csi4106-f24/refs/heads/main/assignments-data/a2/diabetes_prediction_dataset.csv'\n",
        "\n",
        "diabetes_df = pd.read_csv(url)"
      ]
    },
    {
      "cell_type": "markdown",
      "metadata": {},
      "source": [
        "1. **Load the dataset and provide a summary of its structure**:\n",
        "\n",
        "    - Describe the features (columns), their data types, and the target variable."
      ]
    },
    {
      "cell_type": "code",
      "execution_count": null,
      "metadata": {},
      "outputs": [],
      "source": [
        "diabetes_df"
      ]
    },
    {
      "cell_type": "code",
      "execution_count": null,
      "metadata": {},
      "outputs": [],
      "source": [
        "diabetes_df.describe()"
      ]
    },
    {
      "cell_type": "code",
      "execution_count": null,
      "metadata": {},
      "outputs": [],
      "source": [
        "diabetes_df.info()"
      ]
    },
    {
      "cell_type": "markdown",
      "metadata": {},
      "source": [
        "#### Identifiying values of ambiguous attributes\n",
        "- Gender\n",
        "- Hypertension\n",
        "- Heart Disease\n",
        "- Smoking History\n",
        "- Diabetes\n",
        "\n",
        "The following cells counts the number of recurrent values in each attribute."
      ]
    },
    {
      "cell_type": "code",
      "execution_count": null,
      "metadata": {},
      "outputs": [],
      "source": [
        "diabetes_df.gender.value_counts()"
      ]
    },
    {
      "cell_type": "markdown",
      "metadata": {},
      "source": [
        "We can expect 3 values for the `gender` attribute."
      ]
    },
    {
      "cell_type": "code",
      "execution_count": null,
      "metadata": {},
      "outputs": [],
      "source": [
        "diabetes_df.heart_disease.value_counts()"
      ]
    },
    {
      "cell_type": "markdown",
      "metadata": {},
      "source": [
        "For `heart_disease`, it looks like we have binary values. "
      ]
    },
    {
      "cell_type": "code",
      "execution_count": null,
      "metadata": {},
      "outputs": [],
      "source": [
        "diabetes_df.hypertension.value_counts()"
      ]
    },
    {
      "cell_type": "markdown",
      "metadata": {},
      "source": [
        "For `hypertension`, we have binary values as well. "
      ]
    },
    {
      "cell_type": "code",
      "execution_count": null,
      "metadata": {},
      "outputs": [],
      "source": [
        "diabetes_df.smoking_history.value_counts()"
      ]
    },
    {
      "cell_type": "markdown",
      "metadata": {},
      "source": [
        "We have a finite (5) number of possible values for the `smoking_history`."
      ]
    },
    {
      "cell_type": "markdown",
      "metadata": {},
      "source": [
        "#### Identifying the target variable"
      ]
    },
    {
      "cell_type": "code",
      "execution_count": null,
      "metadata": {},
      "outputs": [],
      "source": [
        "diabetes_df.diabetes.value_counts()"
      ]
    },
    {
      "cell_type": "markdown",
      "metadata": {},
      "source": [
        "From the cell above, we have identified that the `diabetes` column/attribute is *binary*, and thus can be used in a binary classification task. From this, we can also conclude that it must represent whether the patient has diabetes (1 or 0 ≈ yes or no).\n",
        "\n",
        "Thus, we can safely say that `diabetes` will be our target variable."
      ]
    },
    {
      "cell_type": "markdown",
      "metadata": {},
      "source": [
        "2. **Feature Distribution Analysis**:\n",
        "\n",
        "    - Examine the distribution of each feature using appropriate visualizations such as histograms and boxplots. Discuss insights gained, including the presence of outliers."
      ]
    },
    {
      "cell_type": "code",
      "execution_count": null,
      "metadata": {},
      "outputs": [],
      "source": [
        "diabetes_df.info()"
      ]
    },
    {
      "cell_type": "markdown",
      "metadata": {},
      "source": [
        "#### Gender"
      ]
    },
    {
      "cell_type": "markdown",
      "metadata": {},
      "source": [
        "We will look at the gender distribution of the dataset."
      ]
    },
    {
      "cell_type": "code",
      "execution_count": null,
      "metadata": {},
      "outputs": [],
      "source": [
        "diabetes_df.gender.hist(figsize=(5,3))"
      ]
    },
    {
      "cell_type": "markdown",
      "metadata": {},
      "source": [
        "It appears there are slightly more women than men. \"Other\" is not large enough to appear on the graph.\n",
        "\n"
      ]
    },
    {
      "cell_type": "code",
      "execution_count": null,
      "metadata": {},
      "outputs": [],
      "source": [
        "sns.countplot(diabetes_df, x=\"gender\", hue=\"diabetes\")\n",
        "plt.title('Diabetes by Gender Disbtribution')\n",
        "plt.show()"
      ]
    },
    {
      "cell_type": "markdown",
      "metadata": {},
      "source": [
        "It is not entirely clear if this is significant, but it appears the diabetes-rate among men is higher than women."
      ]
    },
    {
      "cell_type": "markdown",
      "metadata": {},
      "source": [
        "#### Age"
      ]
    },
    {
      "cell_type": "markdown",
      "metadata": {},
      "source": [
        "Let us take a look the histogram for age."
      ]
    },
    {
      "cell_type": "code",
      "execution_count": null,
      "metadata": {},
      "outputs": [],
      "source": [
        "sns.histplot(diabetes_df, x=\"age\")\n",
        "plt.show()"
      ]
    },
    {
      "cell_type": "markdown",
      "metadata": {},
      "source": [
        "It appears there are some peaks. There are some outliers at the low and high ends and a slight rise in the middle."
      ]
    },
    {
      "cell_type": "markdown",
      "metadata": {},
      "source": [
        "We will plot a boxplot for the age attribute."
      ]
    },
    {
      "cell_type": "code",
      "execution_count": null,
      "metadata": {},
      "outputs": [],
      "source": [
        "sns.boxplot(diabetes_df, x=\"gender\", y=\"age\", hue=\"diabetes\")\n",
        "plt.show()"
      ]
    },
    {
      "cell_type": "markdown",
      "metadata": {},
      "source": [
        "We can see from this boxplot that most diabetetic patients are closer to the 50-70 age mark. That said, there are multiple outliers that fall under the lower wisker of the diabetes-positive boxplot.\n",
        "\n",
        "Furthermore, there appear to be no outliers in the upper wisker."
      ]
    },
    {
      "cell_type": "code",
      "execution_count": null,
      "metadata": {},
      "outputs": [],
      "source": [
        "sns.scatterplot(diabetes_df, x=\"age\", y=\"diabetes\", hue=\"diabetes\")\n",
        "plt.show()"
      ]
    },
    {
      "cell_type": "markdown",
      "metadata": {},
      "source": [
        "It seems the scatter plot is not relevant. In fact, this makes sense I would guess. There are many people of all ages without diabetes. There is no strong relationship between age and diabetes."
      ]
    },
    {
      "cell_type": "markdown",
      "metadata": {},
      "source": [
        "#### Smoking History"
      ]
    },
    {
      "cell_type": "code",
      "execution_count": null,
      "metadata": {},
      "outputs": [],
      "source": [
        "sns.histplot(diabetes_df, x=\"smoking_history\")\n",
        "plt.plot()"
      ]
    },
    {
      "cell_type": "markdown",
      "metadata": {},
      "source": [
        "We will plot a more complex count plot to compare each category with the target variable."
      ]
    },
    {
      "cell_type": "code",
      "execution_count": null,
      "metadata": {},
      "outputs": [],
      "source": [
        "sns.countplot(diabetes_df, x=\"smoking_history\", hue=\"diabetes\")\n",
        "plt.show()"
      ]
    },
    {
      "cell_type": "markdown",
      "metadata": {},
      "source": [
        "It appears that having vs not having smoking history doesn't have a very strong correlation to having diabetes."
      ]
    },
    {
      "cell_type": "markdown",
      "metadata": {},
      "source": [
        "#### Body Mass Index (BMI)"
      ]
    },
    {
      "cell_type": "markdown",
      "metadata": {},
      "source": [
        "We use plot a histogram for BMI."
      ]
    },
    {
      "cell_type": "code",
      "execution_count": null,
      "metadata": {},
      "outputs": [],
      "source": [
        "sns.histplot(diabetes_df, x=\"bmi\")\n",
        "plt.show()"
      ]
    },
    {
      "cell_type": "markdown",
      "metadata": {},
      "source": [
        "There is clealry a specific value that was probably chosen for quick data collection... That said, this data looks fairly normal. Let us plot this against age and gender."
      ]
    },
    {
      "cell_type": "code",
      "execution_count": null,
      "metadata": {},
      "outputs": [],
      "source": [
        "sns.scatterplot(diabetes_df, x=\"age\", y=\"bmi\", hue=\"gender\", palette=\"rocket\")\n",
        "plt.show()"
      ]
    },
    {
      "cell_type": "markdown",
      "metadata": {},
      "source": [
        "This is very insightful. There appears to be no correlation with gender. However, we can see a slight increase of BMI between 30 to 60.\n",
        "\n",
        "Let's see what we can see when we look at diabetes instead."
      ]
    },
    {
      "cell_type": "code",
      "execution_count": null,
      "metadata": {},
      "outputs": [],
      "source": [
        "sns.scatterplot(diabetes_df, x=\"age\", y=\"bmi\", hue=\"diabetes\")\n",
        "plt.show()"
      ]
    },
    {
      "cell_type": "markdown",
      "metadata": {},
      "source": [
        "Of course, we already knew from the Age analysis that diabetes was higher with age, but it seems BMI also plays a certain role near certain ages. The points in the higher BMI range for their age class seem to be more likely to have diabetes."
      ]
    },
    {
      "cell_type": "markdown",
      "metadata": {},
      "source": [
        "Since this is a continuous value, we will use a scatter plot against the binary diabetes."
      ]
    },
    {
      "cell_type": "code",
      "execution_count": null,
      "metadata": {},
      "outputs": [],
      "source": [
        "sns.scatterplot(diabetes_df, x=\"bmi\", y=\"diabetes\", hue=\"diabetes\")\n",
        "plt.show()"
      ]
    },
    {
      "cell_type": "markdown",
      "metadata": {},
      "source": [
        "There appears to be no correlation."
      ]
    },
    {
      "cell_type": "markdown",
      "metadata": {},
      "source": [
        "### HbA1c Level"
      ]
    },
    {
      "cell_type": "code",
      "execution_count": 5,
      "metadata": {},
      "outputs": [
        {
          "data": {
            "image/png": "[encoded data removed]",
            "text/plain": [
              "<Figure size 640x480 with 1 Axes>"
            ]
          },
          "metadata": {},
          "output_type": "display_data"
        }
      ],
      "source": [
        "sns.histplot(diabetes_df, x=\"HbA1c_level\")\n",
        "plt.show()"
      ]
    },
    {
      "cell_type": "markdown",
      "metadata": {},
      "source": [
        "This looks suspicously like the smoking_plot. Let us plot them against each other to see."
      ]
    },
    {
      "cell_type": "code",
      "execution_count": null,
      "metadata": {},
      "outputs": [],
      "source": [
        "sns.scatterplot(diabetes_df, x=\"HbA1c_level\", y=\"smoking_history\", hue=\"diabetes\")\n",
        "plt.show()"
      ]
    },
    {
      "cell_type": "markdown",
      "metadata": {},
      "source": [
        "Nevermind, it appears there is no correlation. However, this does show something quite clearly. High HbA1c level is an indicator of diabetes. Let us plot it against the target variable instead."
      ]
    },
    {
      "cell_type": "code",
      "execution_count": null,
      "metadata": {},
      "outputs": [],
      "source": [
        "sns.barplot(diabetes_df, x=\"diabetes\", y=\"HbA1c_level\", hue=\"diabetes\")\n",
        "plt.show()"
      ]
    },
    {
      "cell_type": "markdown",
      "metadata": {},
      "source": [
        "Clearly, above a HbA1c level of 7, the patient has diabetes. We can see from the previous cell that there are of course some outliers."
      ]
    },
    {
      "cell_type": "markdown",
      "metadata": {},
      "source": [
        "We will again plot a scatter plot to see any correlation between the continuous and binary value."
      ]
    },
    {
      "cell_type": "code",
      "execution_count": null,
      "metadata": {},
      "outputs": [],
      "source": [
        "sns.scatterplot(diabetes_df, x=\"HbA1c_level\", y=\"diabetes\", hue=\"diabetes\")\n",
        "plt.show()"
      ]
    },
    {
      "cell_type": "markdown",
      "metadata": {},
      "source": [
        "Indeed, it appears that HbA1c level has a logistic curve relation with diabetes.\n",
        "\n",
        "This makes sense since Hb1Ac is a type of blood-glucose test that shows your average blood-glucose levels in the past 2-3 months before the exam.\n",
        "\n",
        "Source: [Medline Plus](https://medlineplus.gov/lab-tests/hemoglobin-a1c-hba1c-test/)"
      ]
    },
    {
      "cell_type": "markdown",
      "metadata": {},
      "source": [
        "#### Blood Glucose Level"
      ]
    },
    {
      "cell_type": "code",
      "execution_count": null,
      "metadata": {},
      "outputs": [],
      "source": [
        "sns.histplot(diabetes_df, x=\"blood_glucose_level\")\n",
        "plt.show()"
      ]
    },
    {
      "cell_type": "markdown",
      "metadata": {},
      "source": [
        "Let's try the same scatter plot with blood-glucose level (a test taken showing current blood-glucose levels)"
      ]
    },
    {
      "cell_type": "code",
      "execution_count": null,
      "metadata": {},
      "outputs": [],
      "source": [
        "sns.scatterplot(diabetes_df, x=\"blood_glucose_level\", y=\"diabetes\", hue=\"diabetes\")\n",
        "plt.show()"
      ]
    },
    {
      "cell_type": "markdown",
      "metadata": {},
      "source": [
        "Likewise, while slightly less, blood-glucose level also has a similar logistic relationship to diabetes. Indeed, this a well-known factor of diabetes.\n",
        "\n",
        "Let us try to plot HbA1c level against blood-glucose level and highlight diabetes."
      ]
    },
    {
      "cell_type": "code",
      "execution_count": null,
      "metadata": {},
      "outputs": [],
      "source": [
        "sns.scatterplot(diabetes_df, x=\"HbA1c_level\", y=\"blood_glucose_level\", hue=\"diabetes\")\n",
        "plt.show()"
      ]
    },
    {
      "cell_type": "markdown",
      "metadata": {},
      "source": [
        "This is very enriching information. There is a clear correlation between the two variables. This should, however, come as no suprise since both are technically measuring blood-glucose levels, albeit at different times."
      ]
    },
    {
      "cell_type": "markdown",
      "metadata": {},
      "source": [
        "3. **Target Variable Distribution**:\n",
        "\n",
        "    - Analyze the distribution of the target variable to identify class imbalances. Use bar plots to visualize the class frequencies."
      ]
    },
    {
      "cell_type": "code",
      "execution_count": null,
      "metadata": {},
      "outputs": [],
      "source": [
        "sns.countplot(diabetes_df, x=\"diabetes\", hue=\"diabetes\")\n",
        "plt.show()"
      ]
    },
    {
      "cell_type": "markdown",
      "metadata": {},
      "source": [
        "There is a clear imbalance towards non diabetic (0). I suppose this is good... medically speaking? \n",
        "\n",
        "This could affect the model since it will likely be biased towards the dominant class. To ensure our model is predicting as intented, we will make use of good evaluation metrics that account for imbalances. These include:\n",
        "\n",
        "- Precision\n",
        "- Recall\n",
        "- F1-Score"
      ]
    },
    {
      "cell_type": "markdown",
      "metadata": {},
      "source": [
        "4. **Data Splitting**:\n",
        "\n",
        "    - Split the dataset into training (80%) and test (20%) sets using the holdout method.\n",
        "\n",
        "    - Ensure that this split occurs before any preprocessing to avoid data leakage."
      ]
    },
    {
      "cell_type": "code",
      "execution_count": 6,
      "metadata": {},
      "outputs": [],
      "source": [
        "# splitting data train and test\n",
        "diabetes_train, diabetes_test = train_test_split(diabetes_df, test_size=0.2, random_state=42)\n",
        "X_train = diabetes_train.drop('diabetes', axis=1)\n",
        "y_train = diabetes_train['diabetes']\n",
        "X_test = diabetes_test.drop('diabetes', axis=1)\n",
        "y_test = diabetes_test['diabetes']"
      ]
    },
    {
      "cell_type": "markdown",
      "metadata": {},
      "source": [
        "## Data Pre-Processing\n",
        "\n",
        "5. **Categorical Variable Encoding**:\n",
        "\n",
        "    - Encode any categorical variables. Justify the chosen method."
      ]
    },
    {
      "cell_type": "markdown",
      "metadata": {},
      "source": [
        "There are 4 categorical variables to encode, `gender` and `smoking_history`."
      ]
    },
    {
      "cell_type": "code",
      "execution_count": null,
      "metadata": {},
      "outputs": [],
      "source": [
        "# visualizing training data\n",
        "diabetes_train"
      ]
    },
    {
      "cell_type": "markdown",
      "metadata": {},
      "source": [
        "Let's look closer at the values that they contain:"
      ]
    },
    {
      "cell_type": "code",
      "execution_count": null,
      "metadata": {},
      "outputs": [],
      "source": [
        "diabetes_train.gender.value_counts()"
      ]
    },
    {
      "cell_type": "code",
      "execution_count": null,
      "metadata": {},
      "outputs": [],
      "source": [
        "diabetes_df.hypertension.value_counts()"
      ]
    },
    {
      "cell_type": "code",
      "execution_count": null,
      "metadata": {},
      "outputs": [],
      "source": [
        "diabetes_df.heart_disease.value_counts()"
      ]
    },
    {
      "cell_type": "code",
      "execution_count": null,
      "metadata": {},
      "outputs": [],
      "source": [
        "diabetes_train.smoking_history.value_counts()"
      ]
    },
    {
      "cell_type": "markdown",
      "metadata": {},
      "source": [
        "We note that `gender` contains generalized values in non-specific order.\n",
        "\n",
        "However, we can see `smoking_history` has somewhat orderered values. This is the order I have come up with, from least to worse:\n",
        "\n",
        "1. No Info\n",
        "2. never\n",
        "3. ever\n",
        "4. former\n",
        "5. not current\n",
        "6. current\n",
        "\n",
        "While some of the values have an obvious positioning, others are very ambiguous. For example, the Gov Canada [page](https://www.canada.ca/en/health-canada/services/health-concerns/tobacco/research/tobacco-use-statistics/terminology.html) on Tobacco Usage Classification defines \"ever-smokers\" as \"current and former smokers combined.\" From a quick glance in the cell above, we can see this is not the case for this dataset.\n",
        "\n",
        "Regardless, because they are combined this definition would only make sense when counting from a group, not for classifying individuals.\n",
        "\n",
        "On the other hand, Wiktionary [defines](https://en.wiktionary.org/wiki/ever-smoker) it as:\n",
        "\n",
        "> 1. A person who has ever (that is, at any time in their past) smoked tobacco (e.g., cigarettes, cigars, pipes).\n",
        "\n",
        "> 2. (strictly, operational definition for epidemiology) More precisely, someone who has smoked more than 100 instances (e.g., cigarettes, cigars, pipe bowlfuls) in their lifetime.\n",
        "\n",
        "As such, given the lower instances in the dataset, I have assumed 'ever' refers to someone who has smoked before at some point their life but does not consider themselves a \"smoker\" since they have never *actively* smoked.\n",
        "\n",
        "Note that while this is what I have decided to go with, this is assuming that of all smokers of all time, the number of people who smoked before but never \"got into it\" is lower, while *most* still smoke (current) and *most* have smoked a lot in their lives (former). This why I have placed 'ever' before 'former.' Someone who is a former smoker, that is who was once a 'current' or regular smoker, is arguably more at risk than someone who *may* have smoked before, the 'ever.'\n",
        "\n",
        "There is nothing to back this statement. These are just assumptions I have made.\n",
        "\n",
        "As for 'not-current', I just assumed this means a current smoker whose last cigarette was smoked a longer interval of time than they are usually capable of. Say, 1 week since they last smoked. That said, they haven't given up smoking for as long as a former smoker, so they're still more of a smoker than a former smoker.\n",
        "\n",
        "Again, these are all assumptions."
      ]
    },
    {
      "cell_type": "markdown",
      "metadata": {},
      "source": [
        "So for gender, hypertension, and heart_disease we will be using the `OneHotEncoder()` and for smoking_history `OrdinalEncoder()` with the order specified above.\n",
        "\n",
        "We will specifiy the order for smoking, and force the encoding in the next question, so that the scaling and encoding can both be done in the same column transformer."
      ]
    },
    {
      "cell_type": "code",
      "execution_count": 7,
      "metadata": {},
      "outputs": [],
      "source": [
        "# categories of smoking_history (from \"lowest\" to \"highest\")\n",
        "smoking_classification_order = [['No Info', 'never', 'ever', 'former', 'not current', 'current']]"
      ]
    },
    {
      "cell_type": "markdown",
      "metadata": {},
      "source": [
        "6. **Normalization/Standardization of Numerical Features**:\n",
        "\n",
        "    - Normalize or standardize numerical features if necessary. Describe the technique used (e.g., Min-Max scaling, StandardScaler) and explain why it is suitable for this dataset.\n",
        "\n",
        "    - Ensure that this technique is applied only to the training data, with the same transformation subsequently applied to the test data without fitting on it."
      ]
    },
    {
      "cell_type": "markdown",
      "metadata": {},
      "source": [
        "Based on our earlier analysis of the variables, I've identified that the best scaler to use is: `RobustScaler`\n",
        "\n",
        "This is because the most important features identified that correlate the most with the targer variable often have outliers. StandardScaler and MinMax would not do so well with outliers in the dataset. Features that are already normal won't be affected too much by the RobustScaler transformation.\n",
        "\n",
        "Furthermore, while it is possible to apply different transformations that fit each feature best, this would not be good for the kinds of models we will be fitting the data to. Since we will be using KNN and Logistic Regression which are both models sensitive to ranges, it is best to ensure all features are transformed with the same transformation.\n",
        "\n",
        "For this reason, we will be using RobustScaler.\n"
      ]
    },
    {
      "cell_type": "code",
      "execution_count": 11,
      "metadata": {},
      "outputs": [
        {
          "name": "stdout",
          "output_type": "stream",
          "text": [
            "Index(['gender', 'age', 'hypertension', 'heart_disease', 'smoking_history',\n",
            "       'bmi', 'HbA1c_level', 'blood_glucose_level', 'diabetes'],\n",
            "      dtype='object')\n"
          ]
        }
      ],
      "source": [
        "# column transformer to apply encoding and scaling\n",
        "full_pipeline = ColumnTransformer([\n",
        "    (\"onehot\", OneHotEncoder(), ['gender', 'hypertension', 'heart_disease']),\n",
        "    ('ord', OrdinalEncoder(categories=smoking_classification_order), ['smoking_history']),\n",
        "    ('scal', RobustScaler(), ['age', 'bmi', 'HbA1c_level', 'blood_glucose_level'])\n",
        "])\n"
      ]
    },
    {
      "cell_type": "markdown",
      "metadata": {},
      "source": [
        "## Model Development & Evaluation\n",
        "\n",
        "7. **Model Development**:\n",
        "\n",
        "    - Implement the machine learning models covered in class: Decision Trees, K-Nearest Neighbors (KNN), and Logistic Regression. Use the default parameters of scikit-learn as a baseline for training each model."
      ]
    },
    {
      "cell_type": "code",
      "execution_count": 12,
      "metadata": {},
      "outputs": [
        {
          "data": {
            "text/html": [
              "<style>#sk-container-id-1 {\n",
              "  /* Definition of color scheme common for light and dark mode */\n",
              "  --sklearn-color-text: black;\n",
              "  --sklearn-color-line: gray;\n",
              "  /* Definition of color scheme for unfitted estimators */\n",
              "  --sklearn-color-unfitted-level-0: #fff5e6;\n",
              "  --sklearn-color-unfitted-level-1: #f6e4d2;\n",
              "  --sklearn-color-unfitted-level-2: #ffe0b3;\n",
              "  --sklearn-color-unfitted-level-3: chocolate;\n",
              "  /* Definition of color scheme for fitted estimators */\n",
              "  --sklearn-color-fitted-level-0: #f0f8ff;\n",
              "  --sklearn-color-fitted-level-1: #d4ebff;\n",
              "  --sklearn-color-fitted-level-2: #b3dbfd;\n",
              "  --sklearn-color-fitted-level-3: cornflowerblue;\n",
              "\n",
              "  /* Specific color for light theme */\n",
              "  --sklearn-color-text-on-default-background: var(--sg-text-color, var(--theme-code-foreground, var(--jp-content-font-color1, black)));\n",
              "  --sklearn-color-background: var(--sg-background-color, var(--theme-background, var(--jp-layout-color0, white)));\n",
              "  --sklearn-color-border-box: var(--sg-text-color, var(--theme-code-foreground, var(--jp-content-font-color1, black)));\n",
              "  --sklearn-color-icon: #696969;\n",
              "\n",
              "  @media (prefers-color-scheme: dark) {\n",
              "    /* Redefinition of color scheme for dark theme */\n",
              "    --sklearn-color-text-on-default-background: var(--sg-text-color, var(--theme-code-foreground, var(--jp-content-font-color1, white)));\n",
              "    --sklearn-color-background: var(--sg-background-color, var(--theme-background, var(--jp-layout-color0, #111)));\n",
              "    --sklearn-color-border-box: var(--sg-text-color, var(--theme-code-foreground, var(--jp-content-font-color1, white)));\n",
              "    --sklearn-color-icon: #878787;\n",
              "  }\n",
              "}\n",
              "\n",
              "#sk-container-id-1 {\n",
              "  color: var(--sklearn-color-text);\n",
              "}\n",
              "\n",
              "#sk-container-id-1 pre {\n",
              "  padding: 0;\n",
              "}\n",
              "\n",
              "#sk-container-id-1 input.sk-hidden--visually {\n",
              "  border: 0;\n",
              "  clip: rect(1px 1px 1px 1px);\n",
              "  clip: rect(1px, 1px, 1px, 1px);\n",
              "  height: 1px;\n",
              "  margin: -1px;\n",
              "  overflow: hidden;\n",
              "  padding: 0;\n",
              "  position: absolute;\n",
              "  width: 1px;\n",
              "}\n",
              "\n",
              "#sk-container-id-1 div.sk-dashed-wrapped {\n",
              "  border: 1px dashed var(--sklearn-color-line);\n",
              "  margin: 0 0.4em 0.5em 0.4em;\n",
              "  box-sizing: border-box;\n",
              "  padding-bottom: 0.4em;\n",
              "  background-color: var(--sklearn-color-background);\n",
              "}\n",
              "\n",
              "#sk-container-id-1 div.sk-container {\n",
              "  /* jupyter's `normalize.less` sets `[hidden] { display: none; }`\n",
              "     but bootstrap.min.css set `[hidden] { display: none !important; }`\n",
              "     so we also need the `!important` here to be able to override the\n",
              "     default hidden behavior on the sphinx rendered scikit-learn.org.\n",
              "     See: https://github.com/scikit-learn/scikit-learn/issues/21755 */\n",
              "  display: inline-block !important;\n",
              "  position: relative;\n",
              "}\n",
              "\n",
              "#sk-container-id-1 div.sk-text-repr-fallback {\n",
              "  display: none;\n",
              "}\n",
              "\n",
              "div.sk-parallel-item,\n",
              "div.sk-serial,\n",
              "div.sk-item {\n",
              "  /* draw centered vertical line to link estimators */\n",
              "  background-image: linear-gradient(var(--sklearn-color-text-on-default-background), var(--sklearn-color-text-on-default-background));\n",
              "  background-size: 2px 100%;\n",
              "  background-repeat: no-repeat;\n",
              "  background-position: center center;\n",
              "}\n",
              "\n",
              "/* Parallel-specific style estimator block */\n",
              "\n",
              "#sk-container-id-1 div.sk-parallel-item::after {\n",
              "  content: \"\";\n",
              "  width: 100%;\n",
              "  border-bottom: 2px solid var(--sklearn-color-text-on-default-background);\n",
              "  flex-grow: 1;\n",
              "}\n",
              "\n",
              "#sk-container-id-1 div.sk-parallel {\n",
              "  display: flex;\n",
              "  align-items: stretch;\n",
              "  justify-content: center;\n",
              "  background-color: var(--sklearn-color-background);\n",
              "  position: relative;\n",
              "}\n",
              "\n",
              "#sk-container-id-1 div.sk-parallel-item {\n",
              "  display: flex;\n",
              "  flex-direction: column;\n",
              "}\n",
              "\n",
              "#sk-container-id-1 div.sk-parallel-item:first-child::after {\n",
              "  align-self: flex-end;\n",
              "  width: 50%;\n",
              "}\n",
              "\n",
              "#sk-container-id-1 div.sk-parallel-item:last-child::after {\n",
              "  align-self: flex-start;\n",
              "  width: 50%;\n",
              "}\n",
              "\n",
              "#sk-container-id-1 div.sk-parallel-item:only-child::after {\n",
              "  width: 0;\n",
              "}\n",
              "\n",
              "/* Serial-specific style estimator block */\n",
              "\n",
              "#sk-container-id-1 div.sk-serial {\n",
              "  display: flex;\n",
              "  flex-direction: column;\n",
              "  align-items: center;\n",
              "  background-color: var(--sklearn-color-background);\n",
              "  padding-right: 1em;\n",
              "  padding-left: 1em;\n",
              "}\n",
              "\n",
              "\n",
              "/* Toggleable style: style used for estimator/Pipeline/ColumnTransformer box that is\n",
              "clickable and can be expanded/collapsed.\n",
              "- Pipeline and ColumnTransformer use this feature and define the default style\n",
              "- Estimators will overwrite some part of the style using the `sk-estimator` class\n",
              "*/\n",
              "\n",
              "/* Pipeline and ColumnTransformer style (default) */\n",
              "\n",
              "#sk-container-id-1 div.sk-toggleable {\n",
              "  /* Default theme specific background. It is overwritten whether we have a\n",
              "  specific estimator or a Pipeline/ColumnTransformer */\n",
              "  background-color: var(--sklearn-color-background);\n",
              "}\n",
              "\n",
              "/* Toggleable label */\n",
              "#sk-container-id-1 label.sk-toggleable__label {\n",
              "  cursor: pointer;\n",
              "  display: block;\n",
              "  width: 100%;\n",
              "  margin-bottom: 0;\n",
              "  padding: 0.5em;\n",
              "  box-sizing: border-box;\n",
              "  text-align: center;\n",
              "}\n",
              "\n",
              "#sk-container-id-1 label.sk-toggleable__label-arrow:before {\n",
              "  /* Arrow on the left of the label */\n",
              "  content: \"▸\";\n",
              "  float: left;\n",
              "  margin-right: 0.25em;\n",
              "  color: var(--sklearn-color-icon);\n",
              "}\n",
              "\n",
              "#sk-container-id-1 label.sk-toggleable__label-arrow:hover:before {\n",
              "  color: var(--sklearn-color-text);\n",
              "}\n",
              "\n",
              "/* Toggleable content - dropdown */\n",
              "\n",
              "#sk-container-id-1 div.sk-toggleable__content {\n",
              "  max-height: 0;\n",
              "  max-width: 0;\n",
              "  overflow: hidden;\n",
              "  text-align: left;\n",
              "  /* unfitted */\n",
              "  background-color: var(--sklearn-color-unfitted-level-0);\n",
              "}\n",
              "\n",
              "#sk-container-id-1 div.sk-toggleable__content.fitted {\n",
              "  /* fitted */\n",
              "  background-color: var(--sklearn-color-fitted-level-0);\n",
              "}\n",
              "\n",
              "#sk-container-id-1 div.sk-toggleable__content pre {\n",
              "  margin: 0.2em;\n",
              "  border-radius: 0.25em;\n",
              "  color: var(--sklearn-color-text);\n",
              "  /* unfitted */\n",
              "  background-color: var(--sklearn-color-unfitted-level-0);\n",
              "}\n",
              "\n",
              "#sk-container-id-1 div.sk-toggleable__content.fitted pre {\n",
              "  /* unfitted */\n",
              "  background-color: var(--sklearn-color-fitted-level-0);\n",
              "}\n",
              "\n",
              "#sk-container-id-1 input.sk-toggleable__control:checked~div.sk-toggleable__content {\n",
              "  /* Expand drop-down */\n",
              "  max-height: 200px;\n",
              "  max-width: 100%;\n",
              "  overflow: auto;\n",
              "}\n",
              "\n",
              "#sk-container-id-1 input.sk-toggleable__control:checked~label.sk-toggleable__label-arrow:before {\n",
              "  content: \"▾\";\n",
              "}\n",
              "\n",
              "/* Pipeline/ColumnTransformer-specific style */\n",
              "\n",
              "#sk-container-id-1 div.sk-label input.sk-toggleable__control:checked~label.sk-toggleable__label {\n",
              "  color: var(--sklearn-color-text);\n",
              "  background-color: var(--sklearn-color-unfitted-level-2);\n",
              "}\n",
              "\n",
              "#sk-container-id-1 div.sk-label.fitted input.sk-toggleable__control:checked~label.sk-toggleable__label {\n",
              "  background-color: var(--sklearn-color-fitted-level-2);\n",
              "}\n",
              "\n",
              "/* Estimator-specific style */\n",
              "\n",
              "/* Colorize estimator box */\n",
              "#sk-container-id-1 div.sk-estimator input.sk-toggleable__control:checked~label.sk-toggleable__label {\n",
              "  /* unfitted */\n",
              "  background-color: var(--sklearn-color-unfitted-level-2);\n",
              "}\n",
              "\n",
              "#sk-container-id-1 div.sk-estimator.fitted input.sk-toggleable__control:checked~label.sk-toggleable__label {\n",
              "  /* fitted */\n",
              "  background-color: var(--sklearn-color-fitted-level-2);\n",
              "}\n",
              "\n",
              "#sk-container-id-1 div.sk-label label.sk-toggleable__label,\n",
              "#sk-container-id-1 div.sk-label label {\n",
              "  /* The background is the default theme color */\n",
              "  color: var(--sklearn-color-text-on-default-background);\n",
              "}\n",
              "\n",
              "/* On hover, darken the color of the background */\n",
              "#sk-container-id-1 div.sk-label:hover label.sk-toggleable__label {\n",
              "  color: var(--sklearn-color-text);\n",
              "  background-color: var(--sklearn-color-unfitted-level-2);\n",
              "}\n",
              "\n",
              "/* Label box, darken color on hover, fitted */\n",
              "#sk-container-id-1 div.sk-label.fitted:hover label.sk-toggleable__label.fitted {\n",
              "  color: var(--sklearn-color-text);\n",
              "  background-color: var(--sklearn-color-fitted-level-2);\n",
              "}\n",
              "\n",
              "/* Estimator label */\n",
              "\n",
              "#sk-container-id-1 div.sk-label label {\n",
              "  font-family: monospace;\n",
              "  font-weight: bold;\n",
              "  display: inline-block;\n",
              "  line-height: 1.2em;\n",
              "}\n",
              "\n",
              "#sk-container-id-1 div.sk-label-container {\n",
              "  text-align: center;\n",
              "}\n",
              "\n",
              "/* Estimator-specific */\n",
              "#sk-container-id-1 div.sk-estimator {\n",
              "  font-family: monospace;\n",
              "  border: 1px dotted var(--sklearn-color-border-box);\n",
              "  border-radius: 0.25em;\n",
              "  box-sizing: border-box;\n",
              "  margin-bottom: 0.5em;\n",
              "  /* unfitted */\n",
              "  background-color: var(--sklearn-color-unfitted-level-0);\n",
              "}\n",
              "\n",
              "#sk-container-id-1 div.sk-estimator.fitted {\n",
              "  /* fitted */\n",
              "  background-color: var(--sklearn-color-fitted-level-0);\n",
              "}\n",
              "\n",
              "/* on hover */\n",
              "#sk-container-id-1 div.sk-estimator:hover {\n",
              "  /* unfitted */\n",
              "  background-color: var(--sklearn-color-unfitted-level-2);\n",
              "}\n",
              "\n",
              "#sk-container-id-1 div.sk-estimator.fitted:hover {\n",
              "  /* fitted */\n",
              "  background-color: var(--sklearn-color-fitted-level-2);\n",
              "}\n",
              "\n",
              "/* Specification for estimator info (e.g. \"i\" and \"?\") */\n",
              "\n",
              "/* Common style for \"i\" and \"?\" */\n",
              "\n",
              ".sk-estimator-doc-link,\n",
              "a:link.sk-estimator-doc-link,\n",
              "a:visited.sk-estimator-doc-link {\n",
              "  float: right;\n",
              "  font-size: smaller;\n",
              "  line-height: 1em;\n",
              "  font-family: monospace;\n",
              "  background-color: var(--sklearn-color-background);\n",
              "  border-radius: 1em;\n",
              "  height: 1em;\n",
              "  width: 1em;\n",
              "  text-decoration: none !important;\n",
              "  margin-left: 1ex;\n",
              "  /* unfitted */\n",
              "  border: var(--sklearn-color-unfitted-level-1) 1pt solid;\n",
              "  color: var(--sklearn-color-unfitted-level-1);\n",
              "}\n",
              "\n",
              ".sk-estimator-doc-link.fitted,\n",
              "a:link.sk-estimator-doc-link.fitted,\n",
              "a:visited.sk-estimator-doc-link.fitted {\n",
              "  /* fitted */\n",
              "  border: var(--sklearn-color-fitted-level-1) 1pt solid;\n",
              "  color: var(--sklearn-color-fitted-level-1);\n",
              "}\n",
              "\n",
              "/* On hover */\n",
              "div.sk-estimator:hover .sk-estimator-doc-link:hover,\n",
              ".sk-estimator-doc-link:hover,\n",
              "div.sk-label-container:hover .sk-estimator-doc-link:hover,\n",
              ".sk-estimator-doc-link:hover {\n",
              "  /* unfitted */\n",
              "  background-color: var(--sklearn-color-unfitted-level-3);\n",
              "  color: var(--sklearn-color-background);\n",
              "  text-decoration: none;\n",
              "}\n",
              "\n",
              "div.sk-estimator.fitted:hover .sk-estimator-doc-link.fitted:hover,\n",
              ".sk-estimator-doc-link.fitted:hover,\n",
              "div.sk-label-container:hover .sk-estimator-doc-link.fitted:hover,\n",
              ".sk-estimator-doc-link.fitted:hover {\n",
              "  /* fitted */\n",
              "  background-color: var(--sklearn-color-fitted-level-3);\n",
              "  color: var(--sklearn-color-background);\n",
              "  text-decoration: none;\n",
              "}\n",
              "\n",
              "/* Span, style for the box shown on hovering the info icon */\n",
              ".sk-estimator-doc-link span {\n",
              "  display: none;\n",
              "  z-index: 9999;\n",
              "  position: relative;\n",
              "  font-weight: normal;\n",
              "  right: .2ex;\n",
              "  padding: .5ex;\n",
              "  margin: .5ex;\n",
              "  width: min-content;\n",
              "  min-width: 20ex;\n",
              "  max-width: 50ex;\n",
              "  color: var(--sklearn-color-text);\n",
              "  box-shadow: 2pt 2pt 4pt #999;\n",
              "  /* unfitted */\n",
              "  background: var(--sklearn-color-unfitted-level-0);\n",
              "  border: .5pt solid var(--sklearn-color-unfitted-level-3);\n",
              "}\n",
              "\n",
              ".sk-estimator-doc-link.fitted span {\n",
              "  /* fitted */\n",
              "  background: var(--sklearn-color-fitted-level-0);\n",
              "  border: var(--sklearn-color-fitted-level-3);\n",
              "}\n",
              "\n",
              ".sk-estimator-doc-link:hover span {\n",
              "  display: block;\n",
              "}\n",
              "\n",
              "/* \"?\"-specific style due to the `<a>` HTML tag */\n",
              "\n",
              "#sk-container-id-1 a.estimator_doc_link {\n",
              "  float: right;\n",
              "  font-size: 1rem;\n",
              "  line-height: 1em;\n",
              "  font-family: monospace;\n",
              "  background-color: var(--sklearn-color-background);\n",
              "  border-radius: 1rem;\n",
              "  height: 1rem;\n",
              "  width: 1rem;\n",
              "  text-decoration: none;\n",
              "  /* unfitted */\n",
              "  color: var(--sklearn-color-unfitted-level-1);\n",
              "  border: var(--sklearn-color-unfitted-level-1) 1pt solid;\n",
              "}\n",
              "\n",
              "#sk-container-id-1 a.estimator_doc_link.fitted {\n",
              "  /* fitted */\n",
              "  border: var(--sklearn-color-fitted-level-1) 1pt solid;\n",
              "  color: var(--sklearn-color-fitted-level-1);\n",
              "}\n",
              "\n",
              "/* On hover */\n",
              "#sk-container-id-1 a.estimator_doc_link:hover {\n",
              "  /* unfitted */\n",
              "  background-color: var(--sklearn-color-unfitted-level-3);\n",
              "  color: var(--sklearn-color-background);\n",
              "  text-decoration: none;\n",
              "}\n",
              "\n",
              "#sk-container-id-1 a.estimator_doc_link.fitted:hover {\n",
              "  /* fitted */\n",
              "  background-color: var(--sklearn-color-fitted-level-3);\n",
              "}\n",
              "</style><div id=\"sk-container-id-1\" class=\"sk-top-container\"><div class=\"sk-text-repr-fallback\"><pre>Pipeline(steps=[(&#x27;preprocessor&#x27;,\n",
              "                 ColumnTransformer(transformers=[(&#x27;onehot&#x27;, OneHotEncoder(),\n",
              "                                                  [&#x27;gender&#x27;, &#x27;hypertension&#x27;,\n",
              "                                                   &#x27;heart_disease&#x27;]),\n",
              "                                                 (&#x27;ord&#x27;,\n",
              "                                                  OrdinalEncoder(categories=[[&#x27;No &#x27;\n",
              "                                                                              &#x27;Info&#x27;,\n",
              "                                                                              &#x27;never&#x27;,\n",
              "                                                                              &#x27;ever&#x27;,\n",
              "                                                                              &#x27;former&#x27;,\n",
              "                                                                              &#x27;not &#x27;\n",
              "                                                                              &#x27;current&#x27;,\n",
              "                                                                              &#x27;current&#x27;]]),\n",
              "                                                  [&#x27;smoking_history&#x27;]),\n",
              "                                                 (&#x27;scal&#x27;, RobustScaler(),\n",
              "                                                  [&#x27;age&#x27;, &#x27;bmi&#x27;, &#x27;HbA1c_level&#x27;,\n",
              "                                                   &#x27;blood_glucose_level&#x27;])])),\n",
              "                (&#x27;classifier&#x27;,\n",
              "                 LogisticRegression(max_iter=200, random_state=42))])</pre><b>In a Jupyter environment, please rerun this cell to show the HTML representation or trust the notebook. <br />On GitHub, the HTML representation is unable to render, please try loading this page with nbviewer.org.</b></div><div class=\"sk-container\" hidden><div class=\"sk-item sk-dashed-wrapped\"><div class=\"sk-label-container\"><div class=\"sk-label fitted sk-toggleable\"><input class=\"sk-toggleable__control sk-hidden--visually\" id=\"sk-estimator-id-1\" type=\"checkbox\" ><label for=\"sk-estimator-id-1\" class=\"sk-toggleable__label fitted sk-toggleable__label-arrow fitted\">&nbsp;&nbsp;Pipeline<a class=\"sk-estimator-doc-link fitted\" rel=\"noreferrer\" target=\"_blank\" href=\"https://scikit-learn.org/1.5/modules/generated/sklearn.pipeline.Pipeline.html\">?<span>Documentation for Pipeline</span></a><span class=\"sk-estimator-doc-link fitted\">i<span>Fitted</span></span></label><div class=\"sk-toggleable__content fitted\"><pre>Pipeline(steps=[(&#x27;preprocessor&#x27;,\n",
              "                 ColumnTransformer(transformers=[(&#x27;onehot&#x27;, OneHotEncoder(),\n",
              "                                                  [&#x27;gender&#x27;, &#x27;hypertension&#x27;,\n",
              "                                                   &#x27;heart_disease&#x27;]),\n",
              "                                                 (&#x27;ord&#x27;,\n",
              "                                                  OrdinalEncoder(categories=[[&#x27;No &#x27;\n",
              "                                                                              &#x27;Info&#x27;,\n",
              "                                                                              &#x27;never&#x27;,\n",
              "                                                                              &#x27;ever&#x27;,\n",
              "                                                                              &#x27;former&#x27;,\n",
              "                                                                              &#x27;not &#x27;\n",
              "                                                                              &#x27;current&#x27;,\n",
              "                                                                              &#x27;current&#x27;]]),\n",
              "                                                  [&#x27;smoking_history&#x27;]),\n",
              "                                                 (&#x27;scal&#x27;, RobustScaler(),\n",
              "                                                  [&#x27;age&#x27;, &#x27;bmi&#x27;, &#x27;HbA1c_level&#x27;,\n",
              "                                                   &#x27;blood_glucose_level&#x27;])])),\n",
              "                (&#x27;classifier&#x27;,\n",
              "                 LogisticRegression(max_iter=200, random_state=42))])</pre></div> </div></div><div class=\"sk-serial\"><div class=\"sk-item sk-dashed-wrapped\"><div class=\"sk-label-container\"><div class=\"sk-label fitted sk-toggleable\"><input class=\"sk-toggleable__control sk-hidden--visually\" id=\"sk-estimator-id-2\" type=\"checkbox\" ><label for=\"sk-estimator-id-2\" class=\"sk-toggleable__label fitted sk-toggleable__label-arrow fitted\">&nbsp;preprocessor: ColumnTransformer<a class=\"sk-estimator-doc-link fitted\" rel=\"noreferrer\" target=\"_blank\" href=\"https://scikit-learn.org/1.5/modules/generated/sklearn.compose.ColumnTransformer.html\">?<span>Documentation for preprocessor: ColumnTransformer</span></a></label><div class=\"sk-toggleable__content fitted\"><pre>ColumnTransformer(transformers=[(&#x27;onehot&#x27;, OneHotEncoder(),\n",
              "                                 [&#x27;gender&#x27;, &#x27;hypertension&#x27;, &#x27;heart_disease&#x27;]),\n",
              "                                (&#x27;ord&#x27;,\n",
              "                                 OrdinalEncoder(categories=[[&#x27;No Info&#x27;, &#x27;never&#x27;,\n",
              "                                                             &#x27;ever&#x27;, &#x27;former&#x27;,\n",
              "                                                             &#x27;not current&#x27;,\n",
              "                                                             &#x27;current&#x27;]]),\n",
              "                                 [&#x27;smoking_history&#x27;]),\n",
              "                                (&#x27;scal&#x27;, RobustScaler(),\n",
              "                                 [&#x27;age&#x27;, &#x27;bmi&#x27;, &#x27;HbA1c_level&#x27;,\n",
              "                                  &#x27;blood_glucose_level&#x27;])])</pre></div> </div></div><div class=\"sk-parallel\"><div class=\"sk-parallel-item\"><div class=\"sk-item\"><div class=\"sk-label-container\"><div class=\"sk-label fitted sk-toggleable\"><input class=\"sk-toggleable__control sk-hidden--visually\" id=\"sk-estimator-id-3\" type=\"checkbox\" ><label for=\"sk-estimator-id-3\" class=\"sk-toggleable__label fitted sk-toggleable__label-arrow fitted\">onehot</label><div class=\"sk-toggleable__content fitted\"><pre>[&#x27;gender&#x27;, &#x27;hypertension&#x27;, &#x27;heart_disease&#x27;]</pre></div> </div></div><div class=\"sk-serial\"><div class=\"sk-item\"><div class=\"sk-estimator fitted sk-toggleable\"><input class=\"sk-toggleable__control sk-hidden--visually\" id=\"sk-estimator-id-4\" type=\"checkbox\" ><label for=\"sk-estimator-id-4\" class=\"sk-toggleable__label fitted sk-toggleable__label-arrow fitted\">&nbsp;OneHotEncoder<a class=\"sk-estimator-doc-link fitted\" rel=\"noreferrer\" target=\"_blank\" href=\"https://scikit-learn.org/1.5/modules/generated/sklearn.preprocessing.OneHotEncoder.html\">?<span>Documentation for OneHotEncoder</span></a></label><div class=\"sk-toggleable__content fitted\"><pre>OneHotEncoder()</pre></div> </div></div></div></div></div><div class=\"sk-parallel-item\"><div class=\"sk-item\"><div class=\"sk-label-container\"><div class=\"sk-label fitted sk-toggleable\"><input class=\"sk-toggleable__control sk-hidden--visually\" id=\"sk-estimator-id-5\" type=\"checkbox\" ><label for=\"sk-estimator-id-5\" class=\"sk-toggleable__label fitted sk-toggleable__label-arrow fitted\">ord</label><div class=\"sk-toggleable__content fitted\"><pre>[&#x27;smoking_history&#x27;]</pre></div> </div></div><div class=\"sk-serial\"><div class=\"sk-item\"><div class=\"sk-estimator fitted sk-toggleable\"><input class=\"sk-toggleable__control sk-hidden--visually\" id=\"sk-estimator-id-6\" type=\"checkbox\" ><label for=\"sk-estimator-id-6\" class=\"sk-toggleable__label fitted sk-toggleable__label-arrow fitted\">&nbsp;OrdinalEncoder<a class=\"sk-estimator-doc-link fitted\" rel=\"noreferrer\" target=\"_blank\" href=\"https://scikit-learn.org/1.5/modules/generated/sklearn.preprocessing.OrdinalEncoder.html\">?<span>Documentation for OrdinalEncoder</span></a></label><div class=\"sk-toggleable__content fitted\"><pre>OrdinalEncoder(categories=[[&#x27;No Info&#x27;, &#x27;never&#x27;, &#x27;ever&#x27;, &#x27;former&#x27;, &#x27;not current&#x27;,\n",
              "                            &#x27;current&#x27;]])</pre></div> </div></div></div></div></div><div class=\"sk-parallel-item\"><div class=\"sk-item\"><div class=\"sk-label-container\"><div class=\"sk-label fitted sk-toggleable\"><input class=\"sk-toggleable__control sk-hidden--visually\" id=\"sk-estimator-id-7\" type=\"checkbox\" ><label for=\"sk-estimator-id-7\" class=\"sk-toggleable__label fitted sk-toggleable__label-arrow fitted\">scal</label><div class=\"sk-toggleable__content fitted\"><pre>[&#x27;age&#x27;, &#x27;bmi&#x27;, &#x27;HbA1c_level&#x27;, &#x27;blood_glucose_level&#x27;]</pre></div> </div></div><div class=\"sk-serial\"><div class=\"sk-item\"><div class=\"sk-estimator fitted sk-toggleable\"><input class=\"sk-toggleable__control sk-hidden--visually\" id=\"sk-estimator-id-8\" type=\"checkbox\" ><label for=\"sk-estimator-id-8\" class=\"sk-toggleable__label fitted sk-toggleable__label-arrow fitted\">&nbsp;RobustScaler<a class=\"sk-estimator-doc-link fitted\" rel=\"noreferrer\" target=\"_blank\" href=\"https://scikit-learn.org/1.5/modules/generated/sklearn.preprocessing.RobustScaler.html\">?<span>Documentation for RobustScaler</span></a></label><div class=\"sk-toggleable__content fitted\"><pre>RobustScaler()</pre></div> </div></div></div></div></div></div></div><div class=\"sk-item\"><div class=\"sk-estimator fitted sk-toggleable\"><input class=\"sk-toggleable__control sk-hidden--visually\" id=\"sk-estimator-id-9\" type=\"checkbox\" ><label for=\"sk-estimator-id-9\" class=\"sk-toggleable__label fitted sk-toggleable__label-arrow fitted\">&nbsp;LogisticRegression<a class=\"sk-estimator-doc-link fitted\" rel=\"noreferrer\" target=\"_blank\" href=\"https://scikit-learn.org/1.5/modules/generated/sklearn.linear_model.LogisticRegression.html\">?<span>Documentation for LogisticRegression</span></a></label><div class=\"sk-toggleable__content fitted\"><pre>LogisticRegression(max_iter=200, random_state=42)</pre></div> </div></div></div></div></div></div>"
            ],
            "text/plain": [
              "Pipeline(steps=[('preprocessor',\n",
              "                 ColumnTransformer(transformers=[('onehot', OneHotEncoder(),\n",
              "                                                  ['gender', 'hypertension',\n",
              "                                                   'heart_disease']),\n",
              "                                                 ('ord',\n",
              "                                                  OrdinalEncoder(categories=[['No '\n",
              "                                                                              'Info',\n",
              "                                                                              'never',\n",
              "                                                                              'ever',\n",
              "                                                                              'former',\n",
              "                                                                              'not '\n",
              "                                                                              'current',\n",
              "                                                                              'current']]),\n",
              "                                                  ['smoking_history']),\n",
              "                                                 ('scal', RobustScaler(),\n",
              "                                                  ['age', 'bmi', 'HbA1c_level',\n",
              "                                                   'blood_glucose_level'])])),\n",
              "                ('classifier',\n",
              "                 LogisticRegression(max_iter=200, random_state=42))])"
            ]
          },
          "execution_count": 12,
          "metadata": {},
          "output_type": "execute_result"
        }
      ],
      "source": [
        "modelDtree = Pipeline(steps=[\n",
        "    ('preprocessor',full_pipeline),\n",
        "    ('classifier', DecisionTreeClassifier(random_state=42))\n",
        "])\n",
        "\n",
        "modelDtree.fit(X_train,y_train)\n",
        "\n",
        "modelKNN = Pipeline(steps=[\n",
        "    ('preprocessor', full_pipeline),\n",
        "    ('classifier', KNeighborsClassifier(n_neighbors=5))\n",
        "])\n",
        "\n",
        "modelKNN.fit(X_train,y_train)\n",
        "\n",
        "modelLR = Pipeline(steps=[\n",
        "    ('preprocessor',full_pipeline),\n",
        "    ('classifier',LogisticRegression(random_state=42, max_iter=200))\n",
        "])\n",
        "\n",
        "modelLR.fit(X_train,y_train)"
      ]
    },
    {
      "cell_type": "markdown",
      "metadata": {},
      "source": [
        "8. **Model Evaluation**:\n",
        "\n",
        "    - Use cross-validation to evaluate each model, justifying your choice of the number of folds.\n",
        "\n",
        "    - Assess the models using metrics such as precision, recall, and F1-score."
      ]
    },
    {
      "cell_type": "code",
      "execution_count": null,
      "metadata": {},
      "outputs": [
        {
          "name": "stdout",
          "output_type": "stream",
          "text": [
            "Evaluation for Decision Trees:\n",
            "              precision    recall  f1-score   support\n",
            "\n",
            "           0       0.98      0.97      0.97     18292\n",
            "           1       0.72      0.73      0.73      1708\n",
            "\n",
            "    accuracy                           0.95     20000\n",
            "   macro avg       0.85      0.85      0.85     20000\n",
            "weighted avg       0.95      0.95      0.95     20000\n",
            "\n",
            "Evaluation for KNN:\n",
            "              precision    recall  f1-score   support\n",
            "\n",
            "           0       0.96      0.99      0.98     18292\n",
            "           1       0.89      0.60      0.72      1708\n",
            "\n",
            "    accuracy                           0.96     20000\n",
            "   macro avg       0.93      0.80      0.85     20000\n",
            "weighted avg       0.96      0.96      0.96     20000\n",
            "\n",
            "Evaluation for Logistic Regression:\n"
          ]
        },
        {
          "data": {
            "text/plain": [
              "'              precision    recall  f1-score   support\\n\\n           0       0.96      0.99      0.98     18292\\n           1       0.87      0.61      0.72      1708\\n\\n    accuracy                           0.96     20000\\n   macro avg       0.92      0.80      0.85     20000\\nweighted avg       0.96      0.96      0.96     20000\\n'"
            ]
          },
          "execution_count": 15,
          "metadata": {},
          "output_type": "execute_result"
        }
      ],
      "source": [
        "y_predDtree = modelDtree.predict(X_test)\n",
        "y_predKNN = modelKNN.predict(X_test)\n",
        "y_predLR = modelLR.predict(X_test)\n",
        "print(\"Evaluation for Decision Trees:\")\n",
        "print(classification_report(y_test, y_predDtree))\n",
        "print(\"Evaluation for KNN:\")\n",
        "print(classification_report(y_test, y_predKNN))\n",
        "print(\"Evaluation for Logistic Regression:\")\n",
        "print(classification_report(y_test, y_predLR))"
      ]
    },
    {
      "cell_type": "markdown",
      "metadata": {},
      "source": [
        "## Hyperparameter Optimization\n",
        "\n",
        "9. **Exploration and Performance Evaluation:**\n",
        "\n",
        "    - Investigate the impact of varying hyperparameter values on the performance of each model.\n",
        "\n",
        "    - Focus on the following relevant hyperparameters for each model:\n",
        "\n",
        "        - [DecisionTreeClassifier](https://scikit-learn.org/dev/modules/generated/sklearn.tree.DecisionTreeClassifier.html): `criterion` and `max_depth`.\n",
        "  \n",
        "        - [LogisticRegression](https://scikit-learn.org/1.5/modules/generated/sklearn.linear_model.LogisticRegression.html): `penalty`, `max_iter`, and `tol`.\n",
        "  \n",
        "        - [KNeighborsClassifier](https://scikit-learn.org/dev/modules/generated/sklearn.neighbors.KNeighborsClassifier.html): `n_neighbors` and `weights`.\n",
        "\n",
        "    - Employ a grid search strategy or utilize scikit-learn's built-in methods to thoroughly evaluate all combinations of hyperparameter values. Cross-validation should be used to assess each combination.\n",
        "\n",
        "    - Quantify the performance of each hyperparameter configuration using precision, recall, and F1-score as metrics.\n",
        "\n",
        "    - Display the results in a tabular or graphical format (e.g., line charts, bar charts) to effectively demonstrate the influence of hyperparameter variations on model performance.\n",
        "\n",
        "    - Specify the default values for each hyperparameter tested.\n",
        "\n",
        "    - Analyze the findings and offer insights into which hyperparameter configurations achieved optimal performance for each model."
      ]
    },
    {
      "cell_type": "code",
      "execution_count": 39,
      "metadata": {},
      "outputs": [],
      "source": [
        "# Code cell"
      ]
    },
    {
      "cell_type": "markdown",
      "metadata": {},
      "source": [
        "## Analysis of Results\n",
        "\n",
        "10. **Model Comparison**:\n",
        "\n",
        "    - Compare the results obtained from each model.\n",
        "\n",
        "    - Discuss observed differences in model performance, providing potential explanations. Consider aspects such as model complexity, data imbalance, overfitting, and the impact of parameter tuning on overall results.\n",
        "\n",
        "    - Provide recommendations on which model(s) to choose for this task and justify your choices based on the analysis results.\n",
        "\n",
        "    - Train the recommended model(s) using the optimal parameter values identified from the parameter optimization step. Subsequently, apply the trained model to the test data. Document your observations comprehensively. Specifically, evaluate whether the results derived from cross-validation are consistent with those obtained from the test set."
      ]
    },
    {
      "cell_type": "code",
      "execution_count": 40,
      "metadata": {},
      "outputs": [],
      "source": [
        "# Code cell"
      ]
    },
    {
      "cell_type": "markdown",
      "metadata": {},
      "source": [
        "## 2. Documentation of Exploratory Analysis\n",
        "\n",
        "The report should comprehensively document the entire process followed during this assignment. The Jupyter Notebook must include the following:\n",
        "\n",
        "- Your name(s), student number(s), and a report title.\n",
        "- Explain how the tasks have been split between the members. How did you make sure that both students achieve the learning outcomes? \n",
        "- A section for each step of the exploratory analysis, containing the relevant Python code and explanations or results.\n",
        "  - For sections requiring Python code, include the code in a cell.\n",
        "  - For sections requiring explanations or results, include these in a separate cell or in combination with code cells.\n",
        "- Ensure logical separation of code into different cells. For example, the definition of a function should be in one cell and its execution in another. Avoid placing too much code in a single cell to maintain clarity and readability.\n",
        "- The notebook you submit must include the results of the execution, complete with graphics, ensuring that the teaching assistant can grade the notebook without needing to execute the code.\n",
        "\n",
        "# Resources\n",
        "\n",
        "Environment Setup\n",
        "- https://anaconda.org/anaconda/seaborn\n",
        "\n",
        "Data Understanding\n",
        "- https://www.canada.ca/en/health-canada/services/health-concerns/tobacco/research/tobacco-use-statistics/terminology.html\n",
        "- https://en.wiktionary.org/wiki/ever-smoker\n"
      ]
    }
  ],
  "metadata": {
    "kernelspec": {
      "display_name": "Python 3",
      "language": "python",
      "name": "python3"
    },
    "language_info": {
      "codemirror_mode": {
        "name": "ipython",
        "version": 3
      },
      "file_extension": ".py",
      "mimetype": "text/x-python",
      "name": "python",
      "nbconvert_exporter": "python",
      "pygments_lexer": "ipython3",
      "version": "3.12.3"
    }
  },
  "nbformat": 4,
  "nbformat_minor": 4
}
